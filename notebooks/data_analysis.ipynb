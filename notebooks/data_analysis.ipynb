{
 "cells": [
  {
   "cell_type": "code",
   "execution_count": 1,
   "outputs": [],
   "source": [
    "import pandas as pd\n",
    "import matplotlib.pyplot as plt\n",
    "plt.rcParams[\"figure.figsize\"] = (20,10)"
   ],
   "metadata": {
    "collapsed": false,
    "pycharm": {
     "name": "#%%\n"
    }
   }
  },
  {
   "cell_type": "code",
   "execution_count": null,
   "outputs": [],
   "source": [
    "df = pd.read_csv('../data/avatar.csv', encoding = 'unicode_escape').drop(columns=['Unnamed: 0', 'id'])\n",
    "df.head()"
   ],
   "metadata": {
    "collapsed": false,
    "pycharm": {
     "name": "#%%\n",
     "is_executing": true
    }
   }
  },
  {
   "cell_type": "code",
   "execution_count": 3,
   "outputs": [],
   "source": [
    "speakers = df.groupby(['character']).size().sort_values(ascending=False)"
   ],
   "metadata": {
    "collapsed": false,
    "pycharm": {
     "name": "#%%\n"
    }
   }
  },
  {
   "cell_type": "code",
   "execution_count": null,
   "outputs": [],
   "source": [
    "plt.bar(x=speakers.index[:20], height=speakers.values[:20])\n",
    "plt.xticks(rotation=-45)\n",
    "plt.title('20 most common speakers')\n",
    "plt.ylabel('Number of quotes')\n",
    "plt.xlabel('Speaker name')\n",
    "plt.show()"
   ],
   "metadata": {
    "collapsed": false,
    "pycharm": {
     "name": "#%%\n",
     "is_executing": true
    }
   }
  },
  {
   "cell_type": "markdown",
   "source": [
    "# Preprocessing\n",
    "The plot above shows that there is character named \"Scene Description\". Scene descriptions are useless for the sake of test (speach) generation. We verify its participation in the whole dataset."
   ],
   "metadata": {
    "collapsed": false,
    "pycharm": {
     "name": "#%% md\n"
    }
   }
  },
  {
   "cell_type": "code",
   "execution_count": null,
   "outputs": [],
   "source": [
    "total = df.shape[0]\n",
    "characters = df[df['character'] != 'Scene Description'].shape[0]\n",
    "descriptions = df[df['character'] == 'Scene Description'].shape[0]\n",
    "print(f\"{'Total number of expressions:':<30}{total:<10}\")\n",
    "print(f\"{'Characters statements:':<30}{characters:<6}( {characters/total * 100:.2f}% )\")\n",
    "print(f\"{'Scene descriptions:':<30}{descriptions:<6}( {descriptions/total * 100:.2f}% )\")"
   ],
   "metadata": {
    "collapsed": false,
    "pycharm": {
     "name": "#%%\n",
     "is_executing": true
    }
   }
  },
  {
   "cell_type": "markdown",
   "source": [
    "\n",
    "There are also some troublesome characters in the file:\n",
    "\n",
    "| occurences    | character         |\n",
    "|---------------|-------------------|\n",
    "| 1766          | Aang              |\n",
    "| 2             | Aang and Sokka    |\n",
    "| 1             | Aang and Zuko     |\n",
    "| 1             | Aang:             |\n",
    "| 1             | Actor Bumi        |\n",
    "| 5             | Actor Iroh        |\n",
    "| 2             | Actor Jet         |\n",
    "| 5             | Actor Ozai        |\n",
    "| 16            | Actor Sokka       |\n",
    "| 3             | Actor Toph        |\n",
    "| 14            | Actor Zuko        |\n",
    "| 19            | Actress Aang      |\n",
    "| 10            | Actress Azula     |\n",
    "| 16            | Actress Katara    |\n",
    "\n",
    "Hence, we perform some preprocessing, consecutively executing the following steps:\n",
    "1. Drop scene descriptions.\n",
    "2. Drop statements spoken by more than 1 character - there is no simple way to assign them to the proper character. Thus, to avoid manual labeling we drop them, because there are only few of thems.\n",
    "3. Lower all character names.\n",
    "4. Remove tokens like \":\", \"actor\", \"actress\" from character names.\n",
    "5. Transform name to upper case.\n"
   ],
   "metadata": {
    "collapsed": false
   }
  },
  {
   "cell_type": "code",
   "execution_count": 6,
   "outputs": [],
   "source": [
    "df = pd.read_csv('../data/avatar.csv', encoding = 'unicode_escape').drop(columns=['Unnamed: 0', 'id'])"
   ],
   "metadata": {
    "collapsed": false,
    "pycharm": {
     "name": "#%%\n"
    }
   }
  },
  {
   "cell_type": "code",
   "execution_count": 7,
   "outputs": [],
   "source": [
    "df = df[df['character'] != 'Scene Description']\n",
    "df = df[~df['character'].str.contains('and')]\n",
    "df['character'] = df['character'].str.lower()\n",
    "df['character'] = df['character'].str.replace(':|actor|actress', '', regex=True)\n",
    "df['character'] = df['character'].str.title()\n",
    "df = df.reset_index()\n",
    "df = df.drop(columns=['index'])"
   ],
   "metadata": {
    "collapsed": false,
    "pycharm": {
     "name": "#%%\n"
    }
   }
  },
  {
   "cell_type": "code",
   "execution_count": null,
   "outputs": [],
   "source": [
    "df"
   ],
   "metadata": {
    "collapsed": false,
    "pycharm": {
     "name": "#%%\n",
     "is_executing": true
    }
   }
  },
  {
   "cell_type": "code",
   "execution_count": null,
   "outputs": [],
   "source": [
    "temp_df = df[\"character_words\"].str.lower().str.replace('[^\\w\\s]','').str.split(expand=True).stack().value_counts().reset_index()"
   ],
   "metadata": {
    "collapsed": false,
    "pycharm": {
     "name": "#%%\n",
     "is_executing": true
    }
   }
  },
  {
   "cell_type": "code",
   "execution_count": 15,
   "outputs": [],
   "source": [
    "temp_df[0] = temp_df[0] / sum(temp_df[0])"
   ],
   "metadata": {
    "collapsed": false,
    "pycharm": {
     "name": "#%%\n"
    }
   }
  },
  {
   "cell_type": "code",
   "execution_count": null,
   "outputs": [],
   "source": [
    "temp_df"
   ],
   "metadata": {
    "collapsed": false,
    "pycharm": {
     "name": "#%%\n",
     "is_executing": true
    }
   }
  }
 ],
 "metadata": {
  "kernelspec": {
   "display_name": "Python 3",
   "language": "python",
   "name": "python3"
  },
  "language_info": {
   "codemirror_mode": {
    "name": "ipython",
    "version": 2
   },
   "file_extension": ".py",
   "mimetype": "text/x-python",
   "name": "python",
   "nbconvert_exporter": "python",
   "pygments_lexer": "ipython2",
   "version": "2.7.6"
  }
 },
 "nbformat": 4,
 "nbformat_minor": 0
}