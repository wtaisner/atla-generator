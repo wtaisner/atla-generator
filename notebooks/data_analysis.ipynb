{
 "cells": [
  {
   "cell_type": "code",
   "execution_count": 1,
   "outputs": [],
   "source": [
    "import pandas as pd\n",
    "import matplotlib.pyplot as plt\n",
    "plt.rcParams[\"figure.figsize\"] = (20,10)"
   ],
   "metadata": {
    "collapsed": false,
    "pycharm": {
     "name": "#%%\n"
    }
   }
  },
  {
   "cell_type": "code",
   "execution_count": 2,
   "outputs": [
    {
     "data": {
      "text/plain": "    book  book_num                 chapter  chapter_num          character  \\\n0  Water         1  The Boy in the Iceberg            1             Katara   \n1  Water         1  The Boy in the Iceberg            1  Scene Description   \n2  Water         1  The Boy in the Iceberg            1              Sokka   \n3  Water         1  The Boy in the Iceberg            1  Scene Description   \n4  Water         1  The Boy in the Iceberg            1             Katara   \n\n                                           full_text  \\\n0  Water. Earth. Fire. Air. My grandmother used t...   \n1  As the title card fades, the scene opens onto ...   \n2  It's not getting away from me this time. [Clos...   \n3  The shot pans quickly from the boy to Katara, ...   \n4                  [Happily surprised.] Sokka, look!   \n\n                                     character_words  \\\n0  Water. Earth. Fire. Air. My grandmother used t...   \n1                                                NaN   \n2  It's not getting away from me this time.  Watc...   \n3                                                NaN   \n4                                       Sokka, look!   \n\n                                              writer     director  imdb_rating  \n0  <U+200E>Michael Dante DiMartino, Bryan Konietz...  Dave Filoni          8.1  \n1  <U+200E>Michael Dante DiMartino, Bryan Konietz...  Dave Filoni          8.1  \n2  <U+200E>Michael Dante DiMartino, Bryan Konietz...  Dave Filoni          8.1  \n3  <U+200E>Michael Dante DiMartino, Bryan Konietz...  Dave Filoni          8.1  \n4  <U+200E>Michael Dante DiMartino, Bryan Konietz...  Dave Filoni          8.1  ",
      "text/html": "<div>\n<style scoped>\n    .dataframe tbody tr th:only-of-type {\n        vertical-align: middle;\n    }\n\n    .dataframe tbody tr th {\n        vertical-align: top;\n    }\n\n    .dataframe thead th {\n        text-align: right;\n    }\n</style>\n<table border=\"1\" class=\"dataframe\">\n  <thead>\n    <tr style=\"text-align: right;\">\n      <th></th>\n      <th>book</th>\n      <th>book_num</th>\n      <th>chapter</th>\n      <th>chapter_num</th>\n      <th>character</th>\n      <th>full_text</th>\n      <th>character_words</th>\n      <th>writer</th>\n      <th>director</th>\n      <th>imdb_rating</th>\n    </tr>\n  </thead>\n  <tbody>\n    <tr>\n      <th>0</th>\n      <td>Water</td>\n      <td>1</td>\n      <td>The Boy in the Iceberg</td>\n      <td>1</td>\n      <td>Katara</td>\n      <td>Water. Earth. Fire. Air. My grandmother used t...</td>\n      <td>Water. Earth. Fire. Air. My grandmother used t...</td>\n      <td>&lt;U+200E&gt;Michael Dante DiMartino, Bryan Konietz...</td>\n      <td>Dave Filoni</td>\n      <td>8.1</td>\n    </tr>\n    <tr>\n      <th>1</th>\n      <td>Water</td>\n      <td>1</td>\n      <td>The Boy in the Iceberg</td>\n      <td>1</td>\n      <td>Scene Description</td>\n      <td>As the title card fades, the scene opens onto ...</td>\n      <td>NaN</td>\n      <td>&lt;U+200E&gt;Michael Dante DiMartino, Bryan Konietz...</td>\n      <td>Dave Filoni</td>\n      <td>8.1</td>\n    </tr>\n    <tr>\n      <th>2</th>\n      <td>Water</td>\n      <td>1</td>\n      <td>The Boy in the Iceberg</td>\n      <td>1</td>\n      <td>Sokka</td>\n      <td>It's not getting away from me this time. [Clos...</td>\n      <td>It's not getting away from me this time.  Watc...</td>\n      <td>&lt;U+200E&gt;Michael Dante DiMartino, Bryan Konietz...</td>\n      <td>Dave Filoni</td>\n      <td>8.1</td>\n    </tr>\n    <tr>\n      <th>3</th>\n      <td>Water</td>\n      <td>1</td>\n      <td>The Boy in the Iceberg</td>\n      <td>1</td>\n      <td>Scene Description</td>\n      <td>The shot pans quickly from the boy to Katara, ...</td>\n      <td>NaN</td>\n      <td>&lt;U+200E&gt;Michael Dante DiMartino, Bryan Konietz...</td>\n      <td>Dave Filoni</td>\n      <td>8.1</td>\n    </tr>\n    <tr>\n      <th>4</th>\n      <td>Water</td>\n      <td>1</td>\n      <td>The Boy in the Iceberg</td>\n      <td>1</td>\n      <td>Katara</td>\n      <td>[Happily surprised.] Sokka, look!</td>\n      <td>Sokka, look!</td>\n      <td>&lt;U+200E&gt;Michael Dante DiMartino, Bryan Konietz...</td>\n      <td>Dave Filoni</td>\n      <td>8.1</td>\n    </tr>\n  </tbody>\n</table>\n</div>"
     },
     "execution_count": 2,
     "metadata": {},
     "output_type": "execute_result"
    }
   ],
   "source": [
    "df = pd.read_csv('../data/avatar.csv', encoding = 'unicode_escape').drop(columns=['Unnamed: 0', 'id'])\n",
    "df.head()"
   ],
   "metadata": {
    "collapsed": false,
    "pycharm": {
     "name": "#%%\n"
    }
   }
  },
  {
   "cell_type": "code",
   "execution_count": 3,
   "outputs": [],
   "source": [
    "speakers = df.groupby(['character']).size().sort_values(ascending=False)"
   ],
   "metadata": {
    "collapsed": false,
    "pycharm": {
     "name": "#%%\n"
    }
   }
  },
  {
   "cell_type": "code",
   "execution_count": 4,
   "outputs": [
    {
     "data": {
      "text/plain": "<Figure size 1440x720 with 1 Axes>",
      "image/png": "[encoded data removed]"
     },
     "metadata": {
      "needs_background": "light"
     },
     "output_type": "display_data"
    }
   ],
   "source": [
    "plt.bar(x=speakers.index[:20], height=speakers.values[:20])\n",
    "plt.xticks(rotation=-45)\n",
    "plt.title('20 most common speakers')\n",
    "plt.ylabel('Number of quotes')\n",
    "plt.xlabel('Speaker name')\n",
    "plt.show()"
   ],
   "metadata": {
    "collapsed": false,
    "pycharm": {
     "name": "#%%\n"
    }
   }
  },
  {
   "cell_type": "markdown",
   "source": [
    "# Preprocessing\n",
    "The plot above shows that there is character named \"Scene Description\". Scene descriptions are useless for the sake of test (speach) generation. We verify its participation in the whole dataset."
   ],
   "metadata": {
    "collapsed": false,
    "pycharm": {
     "name": "#%% md\n"
    }
   }
  },
  {
   "cell_type": "code",
   "execution_count": 5,
   "outputs": [
    {
     "name": "stdout",
     "output_type": "stream",
     "text": [
      "Total number of expressions:  13385     \n",
      "Characters statements:        9992  ( 74.65% )\n",
      "Scene descriptions:           3393  ( 25.35% )\n"
     ]
    }
   ],
   "source": [
    "total = df.shape[0]\n",
    "characters = df[df['character'] != 'Scene Description'].shape[0]\n",
    "descriptions = df[df['character'] == 'Scene Description'].shape[0]\n",
    "print(f\"{'Total number of expressions:':<30}{total:<10}\")\n",
    "print(f\"{'Characters statements:':<30}{characters:<6}( {characters/total * 100:.2f}% )\")\n",
    "print(f\"{'Scene descriptions:':<30}{descriptions:<6}( {descriptions/total * 100:.2f}% )\")"
   ],
   "metadata": {
    "collapsed": false,
    "pycharm": {
     "name": "#%%\n"
    }
   }
  },
  {
   "cell_type": "markdown",
   "source": [
    "\n",
    "There are also some troublesome characters in the file:\n",
    "\n",
    "| occurences    | character         |\n",
    "|---------------|-------------------|\n",
    "| 1766          | Aang              |\n",
    "| 2             | Aang and Sokka    |\n",
    "| 1             | Aang and Zuko     |\n",
    "| 1             | Aang:             |\n",
    "| 1             | Actor Bumi        |\n",
    "| 5             | Actor Iroh        |\n",
    "| 2             | Actor Jet         |\n",
    "| 5             | Actor Ozai        |\n",
    "| 16            | Actor Sokka       |\n",
    "| 3             | Actor Toph        |\n",
    "| 14            | Actor Zuko        |\n",
    "| 19            | Actress Aang      |\n",
    "| 10            | Actress Azula     |\n",
    "| 16            | Actress Katara    |\n",
    "\n",
    "Hence, we perform some preprocessing, consecutively executing the following steps:\n",
    "1. Drop scene descriptions.\n",
    "2. Drop statements spoken by more than 1 character - there is no simple way to assign them to the proper character. Thus, to avoid manual labeling we drop them, because there are only few of thems.\n",
    "3. Lower all character names.\n",
    "4. Remove tokens like \":\", \"actor\", \"actress\" from character names.\n",
    "5. Transform name to upper case.\n"
   ],
   "metadata": {
    "collapsed": false
   }
  },
  {
   "cell_type": "code",
   "execution_count": 6,
   "outputs": [],
   "source": [
    "df = pd.read_csv('../data/avatar.csv', encoding = 'unicode_escape').drop(columns=['Unnamed: 0', 'id'])"
   ],
   "metadata": {
    "collapsed": false,
    "pycharm": {
     "name": "#%%\n"
    }
   }
  },
  {
   "cell_type": "code",
   "execution_count": 7,
   "outputs": [],
   "source": [
    "df = df[df['character'] != 'Scene Description']\n",
    "df = df[~df['character'].str.contains('and')]\n",
    "df['character'] = df['character'].str.lower()\n",
    "df['character'] = df['character'].str.replace(':|actor|actress', '', regex=True)\n",
    "df['character'] = df['character'].str.title()\n",
    "df = df.reset_index()\n",
    "df = df.drop(columns=['index'])"
   ],
   "metadata": {
    "collapsed": false,
    "pycharm": {
     "name": "#%%\n"
    }
   }
  },
  {
   "cell_type": "code",
   "execution_count": 8,
   "outputs": [
    {
     "data": {
      "text/plain": "       book  book_num                             chapter  chapter_num  \\\n0     Water         1              The Boy in the Iceberg            1   \n1     Water         1              The Boy in the Iceberg            1   \n2     Water         1              The Boy in the Iceberg            1   \n3     Water         1              The Boy in the Iceberg            1   \n4     Water         1              The Boy in the Iceberg            1   \n...     ...       ...                                 ...          ...   \n9898   Fire         3  Sozin's Comet, Part 4: Avatar Aang           21   \n9899   Fire         3  Sozin's Comet, Part 4: Avatar Aang           21   \n9900   Fire         3  Sozin's Comet, Part 4: Avatar Aang           21   \n9901   Fire         3  Sozin's Comet, Part 4: Avatar Aang           21   \n9902   Fire         3  Sozin's Comet, Part 4: Avatar Aang           21   \n\n     character                                          full_text  \\\n0       Katara  Water. Earth. Fire. Air. My grandmother used t...   \n1        Sokka  It's not getting away from me this time. [Clos...   \n2       Katara                  [Happily surprised.] Sokka, look!   \n3        Sokka  [Close-up of Sokka; whispering.] Sshh! Katara,...   \n4       Katara  [Struggling with the water that passes right i...   \n...        ...                                                ...   \n9898       Mai                                 I look like a man.   \n9899      Suki              And why did you paint me firebending?   \n9900     Sokka  I thought it looked more exciting that way. [M...   \n9901      Iroh  [Points at painting.] Hey, my belly's not that...   \n9902      Toph   Well I think you all look perfect! [They laugh.]   \n\n                                        character_words  \\\n0     Water. Earth. Fire. Air. My grandmother used t...   \n1     It's not getting away from me this time.  Watc...   \n2                                          Sokka, look!   \n3     Sshh! Katara, you're going to scare it away.  ...   \n4                             But, Sokka! I caught one!   \n...                                                 ...   \n9898                                 I look like a man.   \n9899              And why did you paint me firebending?   \n9900  I thought it looked more exciting that way.  O...   \n9901  Hey, my belly's not that big anymore. I've rea...   \n9902                 Well I think you all look perfect!   \n\n                                                 writer            director  \\\n0     <U+200E>Michael Dante DiMartino, Bryan Konietz...         Dave Filoni   \n1     <U+200E>Michael Dante DiMartino, Bryan Konietz...         Dave Filoni   \n2     <U+200E>Michael Dante DiMartino, Bryan Konietz...         Dave Filoni   \n3     <U+200E>Michael Dante DiMartino, Bryan Konietz...         Dave Filoni   \n4     <U+200E>Michael Dante DiMartino, Bryan Konietz...         Dave Filoni   \n...                                                 ...                 ...   \n9898  Aaron Ehasz, Michael Dante DiMartino, Bryan Ko...  Joaquim Dos Santos   \n9899  Aaron Ehasz, Michael Dante DiMartino, Bryan Ko...  Joaquim Dos Santos   \n9900  Aaron Ehasz, Michael Dante DiMartino, Bryan Ko...  Joaquim Dos Santos   \n9901  Aaron Ehasz, Michael Dante DiMartino, Bryan Ko...  Joaquim Dos Santos   \n9902  Aaron Ehasz, Michael Dante DiMartino, Bryan Ko...  Joaquim Dos Santos   \n\n      imdb_rating  \n0             8.1  \n1             8.1  \n2             8.1  \n3             8.1  \n4             8.1  \n...           ...  \n9898          9.8  \n9899          9.8  \n9900          9.8  \n9901          9.8  \n9902          9.8  \n\n[9903 rows x 10 columns]",
      "text/html": "<div>\n<style scoped>\n    .dataframe tbody tr th:only-of-type {\n        vertical-align: middle;\n    }\n\n    .dataframe tbody tr th {\n        vertical-align: top;\n    }\n\n    .dataframe thead th {\n        text-align: right;\n    }\n</style>\n<table border=\"1\" class=\"dataframe\">\n  <thead>\n    <tr style=\"text-align: right;\">\n      <th></th>\n      <th>book</th>\n      <th>book_num</th>\n      <th>chapter</th>\n      <th>chapter_num</th>\n      <th>character</th>\n      <th>full_text</th>\n      <th>character_words</th>\n      <th>writer</th>\n      <th>director</th>\n      <th>imdb_rating</th>\n    </tr>\n  </thead>\n  <tbody>\n    <tr>\n      <th>0</th>\n      <td>Water</td>\n      <td>1</td>\n      <td>The Boy in the Iceberg</td>\n      <td>1</td>\n      <td>Katara</td>\n      <td>Water. Earth. Fire. Air. My grandmother used t...</td>\n      <td>Water. Earth. Fire. Air. My grandmother used t...</td>\n      <td>&lt;U+200E&gt;Michael Dante DiMartino, Bryan Konietz...</td>\n      <td>Dave Filoni</td>\n      <td>8.1</td>\n    </tr>\n    <tr>\n      <th>1</th>\n      <td>Water</td>\n      <td>1</td>\n      <td>The Boy in the Iceberg</td>\n      <td>1</td>\n      <td>Sokka</td>\n      <td>It's not getting away from me this time. [Clos...</td>\n      <td>It's not getting away from me this time.  Watc...</td>\n      <td>&lt;U+200E&gt;Michael Dante DiMartino, Bryan Konietz...</td>\n      <td>Dave Filoni</td>\n      <td>8.1</td>\n    </tr>\n    <tr>\n      <th>2</th>\n      <td>Water</td>\n      <td>1</td>\n      <td>The Boy in the Iceberg</td>\n      <td>1</td>\n      <td>Katara</td>\n      <td>[Happily surprised.] Sokka, look!</td>\n      <td>Sokka, look!</td>\n      <td>&lt;U+200E&gt;Michael Dante DiMartino, Bryan Konietz...</td>\n      <td>Dave Filoni</td>\n      <td>8.1</td>\n    </tr>\n    <tr>\n      <th>3</th>\n      <td>Water</td>\n      <td>1</td>\n      <td>The Boy in the Iceberg</td>\n      <td>1</td>\n      <td>Sokka</td>\n      <td>[Close-up of Sokka; whispering.] Sshh! Katara,...</td>\n      <td>Sshh! Katara, you're going to scare it away.  ...</td>\n      <td>&lt;U+200E&gt;Michael Dante DiMartino, Bryan Konietz...</td>\n      <td>Dave Filoni</td>\n      <td>8.1</td>\n    </tr>\n    <tr>\n      <th>4</th>\n      <td>Water</td>\n      <td>1</td>\n      <td>The Boy in the Iceberg</td>\n      <td>1</td>\n      <td>Katara</td>\n      <td>[Struggling with the water that passes right i...</td>\n      <td>But, Sokka! I caught one!</td>\n      <td>&lt;U+200E&gt;Michael Dante DiMartino, Bryan Konietz...</td>\n      <td>Dave Filoni</td>\n      <td>8.1</td>\n    </tr>\n    <tr>\n      <th>...</th>\n      <td>...</td>\n      <td>...</td>\n      <td>...</td>\n      <td>...</td>\n      <td>...</td>\n      <td>...</td>\n      <td>...</td>\n      <td>...</td>\n      <td>...</td>\n      <td>...</td>\n    </tr>\n    <tr>\n      <th>9898</th>\n      <td>Fire</td>\n      <td>3</td>\n      <td>Sozin's Comet, Part 4: Avatar Aang</td>\n      <td>21</td>\n      <td>Mai</td>\n      <td>I look like a man.</td>\n      <td>I look like a man.</td>\n      <td>Aaron Ehasz, Michael Dante DiMartino, Bryan Ko...</td>\n      <td>Joaquim Dos Santos</td>\n      <td>9.8</td>\n    </tr>\n    <tr>\n      <th>9899</th>\n      <td>Fire</td>\n      <td>3</td>\n      <td>Sozin's Comet, Part 4: Avatar Aang</td>\n      <td>21</td>\n      <td>Suki</td>\n      <td>And why did you paint me firebending?</td>\n      <td>And why did you paint me firebending?</td>\n      <td>Aaron Ehasz, Michael Dante DiMartino, Bryan Ko...</td>\n      <td>Joaquim Dos Santos</td>\n      <td>9.8</td>\n    </tr>\n    <tr>\n      <th>9900</th>\n      <td>Fire</td>\n      <td>3</td>\n      <td>Sozin's Comet, Part 4: Avatar Aang</td>\n      <td>21</td>\n      <td>Sokka</td>\n      <td>I thought it looked more exciting that way. [M...</td>\n      <td>I thought it looked more exciting that way.  O...</td>\n      <td>Aaron Ehasz, Michael Dante DiMartino, Bryan Ko...</td>\n      <td>Joaquim Dos Santos</td>\n      <td>9.8</td>\n    </tr>\n    <tr>\n      <th>9901</th>\n      <td>Fire</td>\n      <td>3</td>\n      <td>Sozin's Comet, Part 4: Avatar Aang</td>\n      <td>21</td>\n      <td>Iroh</td>\n      <td>[Points at painting.] Hey, my belly's not that...</td>\n      <td>Hey, my belly's not that big anymore. I've rea...</td>\n      <td>Aaron Ehasz, Michael Dante DiMartino, Bryan Ko...</td>\n      <td>Joaquim Dos Santos</td>\n      <td>9.8</td>\n    </tr>\n    <tr>\n      <th>9902</th>\n      <td>Fire</td>\n      <td>3</td>\n      <td>Sozin's Comet, Part 4: Avatar Aang</td>\n      <td>21</td>\n      <td>Toph</td>\n      <td>Well I think you all look perfect! [They laugh.]</td>\n      <td>Well I think you all look perfect!</td>\n      <td>Aaron Ehasz, Michael Dante DiMartino, Bryan Ko...</td>\n      <td>Joaquim Dos Santos</td>\n      <td>9.8</td>\n    </tr>\n  </tbody>\n</table>\n<p>9903 rows × 10 columns</p>\n</div>"
     },
     "execution_count": 8,
     "metadata": {},
     "output_type": "execute_result"
    }
   ],
   "source": [
    "df"
   ],
   "metadata": {
    "collapsed": false,
    "pycharm": {
     "name": "#%%\n"
    }
   }
  },
  {
   "cell_type": "code",
   "execution_count": 9,
   "outputs": [
    {
     "name": "stderr",
     "output_type": "stream",
     "text": [
      "/tmp/ipykernel_12639/1911633456.py:1: FutureWarning: The default value of regex will change from True to False in a future version.\n",
      "  temp_df = df[\"character_words\"].str.lower().str.replace('[^\\w\\s]','').str.split(expand=True).stack().value_counts().reset_index()\n"
     ]
    }
   ],
   "source": [
    "temp_df = df[\"character_words\"].str.lower().str.replace('[^\\w\\s]','').str.split(expand=True).stack().value_counts().reset_index()"
   ],
   "metadata": {
    "collapsed": false,
    "pycharm": {
     "name": "#%%\n"
    }
   }
  },
  {
   "cell_type": "code",
   "execution_count": 10,
   "outputs": [],
   "source": [
    "temp_df[0] = temp_df[0] / sum(temp_df[0])"
   ],
   "metadata": {
    "collapsed": false,
    "pycharm": {
     "name": "#%%\n"
    }
   }
  },
  {
   "cell_type": "code",
   "execution_count": 11,
   "outputs": [
    {
     "data": {
      "text/plain": "              index         0\n0               the  0.037336\n1               you  0.036469\n2                 i  0.029746\n3                to  0.028004\n4                 a  0.018392\n...             ...       ...\n6525  investigation  0.000009\n6526       argument  0.000009\n6527          facts  0.000009\n6528    furthermore  0.000009\n6529        trimmed  0.000009\n\n[6530 rows x 2 columns]",
      "text/html": "<div>\n<style scoped>\n    .dataframe tbody tr th:only-of-type {\n        vertical-align: middle;\n    }\n\n    .dataframe tbody tr th {\n        vertical-align: top;\n    }\n\n    .dataframe thead th {\n        text-align: right;\n    }\n</style>\n<table border=\"1\" class=\"dataframe\">\n  <thead>\n    <tr style=\"text-align: right;\">\n      <th></th>\n      <th>index</th>\n      <th>0</th>\n    </tr>\n  </thead>\n  <tbody>\n    <tr>\n      <th>0</th>\n      <td>the</td>\n      <td>0.037336</td>\n    </tr>\n    <tr>\n      <th>1</th>\n      <td>you</td>\n      <td>0.036469</td>\n    </tr>\n    <tr>\n      <th>2</th>\n      <td>i</td>\n      <td>0.029746</td>\n    </tr>\n    <tr>\n      <th>3</th>\n      <td>to</td>\n      <td>0.028004</td>\n    </tr>\n    <tr>\n      <th>4</th>\n      <td>a</td>\n      <td>0.018392</td>\n    </tr>\n    <tr>\n      <th>...</th>\n      <td>...</td>\n      <td>...</td>\n    </tr>\n    <tr>\n      <th>6525</th>\n      <td>investigation</td>\n      <td>0.000009</td>\n    </tr>\n    <tr>\n      <th>6526</th>\n      <td>argument</td>\n      <td>0.000009</td>\n    </tr>\n    <tr>\n      <th>6527</th>\n      <td>facts</td>\n      <td>0.000009</td>\n    </tr>\n    <tr>\n      <th>6528</th>\n      <td>furthermore</td>\n      <td>0.000009</td>\n    </tr>\n    <tr>\n      <th>6529</th>\n      <td>trimmed</td>\n      <td>0.000009</td>\n    </tr>\n  </tbody>\n</table>\n<p>6530 rows × 2 columns</p>\n</div>"
     },
     "execution_count": 11,
     "metadata": {},
     "output_type": "execute_result"
    }
   ],
   "source": [
    "temp_df"
   ],
   "metadata": {
    "collapsed": false,
    "pycharm": {
     "name": "#%%\n"
    }
   }
  }
 ],
 "metadata": {
  "kernelspec": {
   "display_name": "Python 3",
   "language": "python",
   "name": "python3"
  },
  "language_info": {
   "codemirror_mode": {
    "name": "ipython",
    "version": 2
   },
   "file_extension": ".py",
   "mimetype": "text/x-python",
   "name": "python",
   "nbconvert_exporter": "python",
   "pygments_lexer": "ipython2",
   "version": "2.7.6"
  }
 },
 "nbformat": 4,
 "nbformat_minor": 0
}